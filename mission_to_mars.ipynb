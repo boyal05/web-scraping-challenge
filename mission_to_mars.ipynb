{
 "cells": [
  {
   "cell_type": "code",
   "execution_count": 1,
   "metadata": {},
   "outputs": [],
   "source": [
    "# Importing Libraries\n",
    "from bs4 import BeautifulSoup as bs\n",
    "from splinter import Browser\n",
    "from webdriver_manager.chrome import ChromeDriverManager\n",
    "import requests\n",
    "import pymongo\n",
    "import os\n",
    "import time \n",
    "import pandas as pd"
   ]
  },
  {
   "cell_type": "code",
   "execution_count": 2,
   "metadata": {},
   "outputs": [
    {
     "name": "stderr",
     "output_type": "stream",
     "text": [
      "\n",
      "\n",
      "====== WebDriver manager ======\n",
      "Current google-chrome version is 93.0.4577\n",
      "Get LATEST driver version for 93.0.4577\n",
      "Driver [C:\\Users\\smaya\\.wdm\\drivers\\chromedriver\\win32\\93.0.4577.63\\chromedriver.exe] found in cache\n"
     ]
    }
   ],
   "source": [
    "# Setting up\n",
    "\n",
    "executable_path = {'executable_path': ChromeDriverManager().install()}\n",
    "browser = Browser('chrome', **executable_path, headless=False)\n",
    "\n",
    "conn = 'mongodb://localhost:27017'\n",
    "client = pymongo.MongoClient(conn)\n",
    "\n",
    "db = client.commerce_db\n",
    "collection = db.items"
   ]
  },
  {
   "cell_type": "code",
   "execution_count": 3,
   "metadata": {},
   "outputs": [
    {
     "name": "stdout",
     "output_type": "stream",
     "text": [
      "A Martian Roundtrip: NASA's Perseverance Rover Sample Tubes\n",
      "Body:\n",
      "Marvels of engineering, the rover's sample tubes must be tough enough to safely bring Red Planet samples on the long journey back to Earth in immaculate condition. \n",
      "Naming a NASA Mars Rover Can Change Your Life\n",
      "Body:\n",
      "Want to name the robotic scientist NASA is sending to Mars in 2020? The student who named Curiosity — the rover currently exploring Mars — will tell you this is an opportunity worth taking.\n",
      "NASA's Perseverance Rover Attached to Atlas V Rocket\n",
      "Body:\n",
      "Ready for its launch later in the month, the Mars-bound rover will touch terra firma no more.\n",
      "NASA's Perseverance Rover Goes Through Trials by Fire, Ice, Light and Sound\n",
      "Body:\n",
      "The agency's new Mars rover is put through a series of tests in vacuum chambers, acoustic chambers and more to get ready for the Red Planet.\n",
      "Nine Finalists Chosen in NASA's Mars 2020 Rover Naming Contest\n",
      "Body:\n",
      "Nine finalists have been chosen in the essay contest for K-12 students across U.S. to name NASA's next Mars rover. Now you can help by voting for your favorite. \n",
      "NASA Adds Return Sample Scientists to Mars 2020 Leadership Team\n",
      "Body:\n",
      "The leadership council for Mars 2020 science added two new members who represent the interests of scientists destined to handle and study the first samples from Red Planet.\n",
      "NASA's Mars 2020 Heads Into the Test Chamber\n",
      "Body:\n",
      "In this time-lapse video taken at JPL, engineers move the Mars 2020 rover into a large vacuum chamber for testing in Mars-like environmental conditions.\n",
      "Space History Is Made in This NASA Robot Factory\n",
      "Body:\n",
      "From rockets to rovers, JPL's Spacecraft Assembly Facility has been at the center of robotic spaceflight. Here's a closer look at what makes it so special.\n",
      "NASA's Perseverance Mars Rover Gets Its Wheels and Air Brakes\n",
      "Body:\n",
      "After the rover was shipped from JPL to Kennedy Space Center, the team is getting closer to finalizing the spacecraft for launch later this summer.\n",
      "Sensors on Mars 2020 Spacecraft Answer Long-Distance Call From Earth\n",
      "Body:\n",
      "Instruments tailored to collect data during the descent of NASA's next rover through the Red Planet's atmosphere have been checked in flight.\n",
      "7 Things to Know About the Mars 2020 Perseverance Rover Mission\n",
      "Body:\n",
      "NASA's next rover to the Red Planet is slated to launch no earlier than July 30. These highlights will get you up to speed on the ambitious mission.\n",
      "Alabama High School Student Names NASA's Mars Helicopter\n",
      "Body:\n",
      "Vaneeza Rupani's essay was chosen as the name for the small spacecraft, which will mark NASA's first attempt at powered flight on another planet.\n",
      "NASA's Perseverance Rover Will Peer Beneath Mars' Surface \n",
      "Body:\n",
      "The agency's newest rover will use the first ground-penetrating radar instrument on the Martian surface to help search for signs of past microbial life. \n",
      "NASA Invites Students to Name Mars 2020 Rover\n",
      "Body:\n",
      "Through Nov. 1, K-12 students in the U.S. are encouraged to enter an essay contest to name NASA's next Mars rover.\n",
      "NASA's Mars 2020 Rover Completes Its First Drive\n",
      "Body:\n",
      "In a 10-plus-hour marathon, the rover steered, turned and drove in 3-foot (1-meter) increments over small ramps.\n"
     ]
    }
   ],
   "source": [
    "# Scraping Red Planet Science\n",
    "url = 'https://redplanetscience.com/'\n",
    "browser.visit(url)\n",
    "time.sleep(2)\n",
    "\n",
    "soup = bs(browser.html, 'lxml')\n",
    "\n",
    "results = soup.find_all('div', class_='list_text')\n",
    "# print(results)\n",
    "\n",
    "# Loop through returned results\n",
    "for result in results:\n",
    "    \n",
    "    title = result.find('div', class_='content_title')\n",
    "    title_text = title.text\n",
    "    thread = result.find('div', class_='article_teaser_body') \n",
    "    teaser_body = thread.text.lstrip()\n",
    "    # Run teaser_body & title \n",
    "    if (teaser_body):\n",
    "        print(title_text)\n",
    "        print('Body:')\n",
    "        print(teaser_body)"
   ]
  },
  {
   "cell_type": "code",
   "execution_count": 4,
   "metadata": {},
   "outputs": [
    {
     "name": "stdout",
     "output_type": "stream",
     "text": [
      "https://spaceimages-mars.com/image/featured/mars3.jpg\n"
     ]
    }
   ],
   "source": [
    "# Scrape Images from https://spaceimages-mars.com/\n",
    "\n",
    "url = \"https://spaceimages-mars.com/\"\n",
    "browser.visit(url)\n",
    "time.sleep(2)\n",
    "soup = bs(browser.html, 'lxml')\n",
    "\n",
    "html = browser.html\n",
    "img_soup = soup(html, 'html.parser')\n",
    "header = soup.find_all('div', class_='header')\n",
    "header_image = soup.find('img', class_='headerimage fade-in').get('src')\n",
    "featured_image_url = url + header_image\n",
    "print(featured_image_url)"
   ]
  },
  {
   "cell_type": "code",
   "execution_count": 5,
   "metadata": {},
   "outputs": [],
   "source": [
    "# Visit https://galaxyfacts-mars.com/\n",
    "\n",
    "url = 'https://galaxyfacts-mars.com/'\n",
    "tables = pd.read_html(url)\n",
    "mars_table_df = tables[0]\n",
    "mars_table_df.columns = [\"Description\",\"Planet 1\",\"Planet 2\"]\n",
    "mars_table_df.set_index(\"Description\", inplace=True)\n",
    "\n",
    "html_table = mars_table_df.to_html()\n",
    "clean_html = html_table.replace('\\n', '')\n",
    "\n",
    "mars_html = mars_table_df.to_html('mars_table.html')\n"
   ]
  },
  {
   "cell_type": "code",
   "execution_count": 6,
   "metadata": {},
   "outputs": [],
   "source": [
    "# Scrape images \n",
    "planet_dict = []"
   ]
  },
  {
   "cell_type": "markdown",
   "metadata": {},
   "source": [
    "## Cerberus"
   ]
  },
  {
   "cell_type": "code",
   "execution_count": 7,
   "metadata": {},
   "outputs": [
    {
     "data": {
      "text/plain": [
       "{'img_url:https://marshemispheres.com/images/f5e372a36edfa389625da6d0cc25d905_cerberus_enhanced.tif_full.jpg',\n",
       " 'title:Cerberus Hemisphere Enhanced'}"
      ]
     },
     "execution_count": 7,
     "metadata": {},
     "output_type": "execute_result"
    }
   ],
   "source": [
    "# url https://marshemispheres.com/\n",
    "url = 'https://marshemispheres.com/'\n",
    "browser.visit(url)\n",
    "time.sleep(2)\n",
    "\n",
    "browser.links.find_by_partial_text('Cerberus').click()\n",
    "\n",
    "html = browser.html\n",
    "soup = bs(html,\"html.parser\")\n",
    "\n",
    "img_link = soup.find('img', class_='wide-image').get('src')\n",
    "\n",
    "\n",
    "cerberus_title = soup.find('h2', class_='title').text\n",
    "\n",
    "cerberus_img = url + img_link\n",
    "\n",
    "\n",
    "browser.back()\n",
    "\n",
    "cerberus_dict = {'title:' + cerberus_title, 'img_url:' + cerberus_img}\n",
    "planet_dict.append(cerberus_dict)\n",
    "\n",
    "cerberus_dict"
   ]
  },
  {
   "cell_type": "markdown",
   "metadata": {},
   "source": [
    "## Schiaparelli"
   ]
  },
  {
   "cell_type": "code",
   "execution_count": 8,
   "metadata": {},
   "outputs": [
    {
     "data": {
      "text/plain": [
       "{'img_url:https://marshemispheres.com/images/3778f7b43bbbc89d6e3cfabb3613ba93_schiaparelli_enhanced.tif_full.jpg',\n",
       " 'title:Schiaparelli Hemisphere Enhanced'}"
      ]
     },
     "execution_count": 8,
     "metadata": {},
     "output_type": "execute_result"
    }
   ],
   "source": [
    "# url https://marshemispheres.com/\n",
    "url = 'https://marshemispheres.com/'\n",
    "browser.visit(url)\n",
    "time.sleep(2)\n",
    "\n",
    "browser.links.find_by_partial_text('Schiaparelli').click()\n",
    "\n",
    "\n",
    "html = browser.html\n",
    "soup = bs(html,\"html.parser\")\n",
    "# print(soup.prettify())\n",
    "\n",
    "img_link = soup.find('img', class_='wide-image').get('src')\n",
    "\n",
    "schiaparelli_title = soup.find('h2', class_='title').text\n",
    "\n",
    "\n",
    "schiaparelli_img = url + img_link\n",
    "\n",
    "browser.back()\n",
    "\n",
    "schiaparelli_dict = {'title:' + schiaparelli_title, 'img_url:' + schiaparelli_img}\n",
    "planet_dict.append(schiaparelli_dict)\n",
    "\n",
    "schiaparelli_dict"
   ]
  },
  {
   "cell_type": "markdown",
   "metadata": {},
   "source": [
    "## Syrtis"
   ]
  },
  {
   "cell_type": "code",
   "execution_count": 9,
   "metadata": {},
   "outputs": [
    {
     "data": {
      "text/plain": [
       "{'img_url:https://marshemispheres.com/images/555e6403a6ddd7ba16ddb0e471cadcf7_syrtis_major_enhanced.tif_full.jpg',\n",
       " 'title:Syrtis Major Hemisphere Enhanced'}"
      ]
     },
     "execution_count": 9,
     "metadata": {},
     "output_type": "execute_result"
    }
   ],
   "source": [
    "# url https://marshemispheres.com/\n",
    "url = 'https://marshemispheres.com/'\n",
    "browser.visit(url)\n",
    "time.sleep(2)\n",
    "\n",
    "\n",
    "browser.links.find_by_partial_text('Syrtis').click()\n",
    "\n",
    "\n",
    "html = browser.html\n",
    "soup = bs(html,\"html.parser\")\n",
    "\n",
    "img_link = soup.find('img', class_='wide-image').get('src')\n",
    "\n",
    "syrtis_title = soup.find('h2', class_='title').text\n",
    "\n",
    "syrtis_img = url + img_link\n",
    "\n",
    "browser.back() \n",
    "\n",
    "syrtis_dict = {'title:' + syrtis_title, 'img_url:' + syrtis_img}\n",
    "planet_dict.append(syrtis_dict)\n",
    "\n",
    "syrtis_dict"
   ]
  },
  {
   "cell_type": "markdown",
   "metadata": {},
   "source": [
    "## Valles Marineris"
   ]
  },
  {
   "cell_type": "code",
   "execution_count": 10,
   "metadata": {},
   "outputs": [
    {
     "data": {
      "text/plain": [
       "{'img_url:https://marshemispheres.com/images/b3c7c6c9138f57b4756be9b9c43e3a48_valles_marineris_enhanced.tif_full.jpg',\n",
       " 'title:Valles Marineris Hemisphere Enhanced'}"
      ]
     },
     "execution_count": 10,
     "metadata": {},
     "output_type": "execute_result"
    }
   ],
   "source": [
    "# url https://marshemispheres.com/\n",
    "url = 'https://marshemispheres.com/'\n",
    "browser.visit(url)\n",
    "time.sleep(2)\n",
    "\n",
    "browser.links.find_by_partial_text('Valles Marineris').click()\n",
    "\n",
    "\n",
    "html = browser.html\n",
    "soup = bs(html,\"html.parser\")\n",
    "\n",
    "img_link = soup.find('img', class_='wide-image').get('src')\n",
    "\n",
    "valles_title = soup.find('h2', class_='title').text\n",
    "\n",
    "valles_img = url + img_link\n",
    "\n",
    "\n",
    "browser.back()\n",
    "\n",
    "valles_dict = {'title:' + valles_title, 'img_url:' + valles_img}\n",
    "planet_dict.append(valles_dict)\n",
    "\n",
    "valles_dict"
   ]
  },
  {
   "cell_type": "code",
   "execution_count": 11,
   "metadata": {},
   "outputs": [
    {
     "data": {
      "text/plain": [
       "[{'img_url:https://marshemispheres.com/images/f5e372a36edfa389625da6d0cc25d905_cerberus_enhanced.tif_full.jpg',\n",
       "  'title:Cerberus Hemisphere Enhanced'},\n",
       " {'img_url:https://marshemispheres.com/images/3778f7b43bbbc89d6e3cfabb3613ba93_schiaparelli_enhanced.tif_full.jpg',\n",
       "  'title:Schiaparelli Hemisphere Enhanced'},\n",
       " {'img_url:https://marshemispheres.com/images/555e6403a6ddd7ba16ddb0e471cadcf7_syrtis_major_enhanced.tif_full.jpg',\n",
       "  'title:Syrtis Major Hemisphere Enhanced'},\n",
       " {'img_url:https://marshemispheres.com/images/b3c7c6c9138f57b4756be9b9c43e3a48_valles_marineris_enhanced.tif_full.jpg',\n",
       "  'title:Valles Marineris Hemisphere Enhanced'}]"
      ]
     },
     "execution_count": 11,
     "metadata": {},
     "output_type": "execute_result"
    }
   ],
   "source": [
    "planet_dict"
   ]
  },
  {
   "cell_type": "code",
   "execution_count": 12,
   "metadata": {},
   "outputs": [],
   "source": [
    "browser.quit()"
   ]
  },
  {
   "cell_type": "code",
   "execution_count": null,
   "metadata": {},
   "outputs": [],
   "source": []
  },
  {
   "cell_type": "code",
   "execution_count": null,
   "metadata": {},
   "outputs": [],
   "source": []
  }
 ],
 "metadata": {
  "kernelspec": {
   "display_name": "Python 3",
   "language": "python",
   "name": "python3"
  },
  "language_info": {
   "codemirror_mode": {
    "name": "ipython",
    "version": 3
   },
   "file_extension": ".py",
   "mimetype": "text/x-python",
   "name": "python",
   "nbconvert_exporter": "python",
   "pygments_lexer": "ipython3",
   "version": "3.9.5"
  }
 },
 "nbformat": 4,
 "nbformat_minor": 4
}
